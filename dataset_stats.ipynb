{
 "cells": [
  {
   "cell_type": "markdown",
   "id": "883b3d0c",
   "metadata": {},
   "source": [
    "#### setup"
   ]
  },
  {
   "cell_type": "code",
   "execution_count": 1,
   "id": "2edf1dae",
   "metadata": {},
   "outputs": [],
   "source": [
    "import pandas as pd\n",
    "import numpy as np"
   ]
  },
  {
   "cell_type": "code",
   "execution_count": 2,
   "id": "c54616fd",
   "metadata": {},
   "outputs": [],
   "source": [
    "def load_df_from_file():\n",
    "    \"\"\"\n",
    "    Load the raw dataset with minor mods\n",
    "    \"\"\"\n",
    "    file_path = './event_labels_1_18_2025_last_N_days.csv'\n",
    "    data = pd.read_csv(file_path)\n",
    "\n",
    "    # Replace inf and -inf with NaN\n",
    "    data.replace([np.inf, -np.inf], np.nan, inplace=True)\n",
    "\n",
    "    # Drop rows with NaN values\n",
    "    data.dropna(inplace=True)\n",
    "    \n",
    "    return data"
   ]
  },
  {
   "cell_type": "markdown",
   "id": "7d7e2848",
   "metadata": {},
   "source": [
    "#### stats about the dataset, reported in the paper"
   ]
  },
  {
   "cell_type": "code",
   "execution_count": 3,
   "id": "ee0e58e8",
   "metadata": {},
   "outputs": [],
   "source": [
    "# df = load_df_from_file()\n",
    "# display(df)"
   ]
  },
  {
   "cell_type": "code",
   "execution_count": 5,
   "id": "f2b02c9e",
   "metadata": {},
   "outputs": [
    {
     "name": "stdout",
     "output_type": "stream",
     "text": [
      "Unique Acts - 15408\n",
      "Unique Events - 129966\n",
      "Unique Venues - 6716\n",
      "Unique States - 77\n",
      "Unique Cities - 1897\n",
      "Min Date - 2023-05-27 17:18:20.484474\n",
      "Max Date - 2024-05-04 06:20:21.713660\n"
     ]
    }
   ],
   "source": [
    "# load full curated time-series data\n",
    "df = pd.read_csv('raw_seatgeek_events_data_combined_3_20_2025.csv')\n",
    "#display(df)\n",
    "\n",
    "print(f\"Unique Acts - {df.act.nunique()}\")\n",
    "print(f\"Unique Events - {df.event_id.nunique()}\")\n",
    "print(f\"Unique Venues - {df.venue.nunique()}\")\n",
    "print(f\"Unique States - {df.state.nunique()}\")\n",
    "print(f\"Unique Cities - {df.city.nunique()}\")\n",
    "print(f\"Min Date - {df.filename_dt.min()}\")\n",
    "print(f\"Max Date - {df.filename_dt.max()}\")"
   ]
  },
  {
   "cell_type": "code",
   "execution_count": null,
   "id": "c99c7197",
   "metadata": {},
   "outputs": [],
   "source": []
  }
 ],
 "metadata": {
  "kernelspec": {
   "display_name": "Python 3",
   "language": "python",
   "name": "python3"
  },
  "language_info": {
   "codemirror_mode": {
    "name": "ipython",
    "version": 3
   },
   "file_extension": ".py",
   "mimetype": "text/x-python",
   "name": "python",
   "nbconvert_exporter": "python",
   "pygments_lexer": "ipython3",
   "version": "3.7.4"
  }
 },
 "nbformat": 4,
 "nbformat_minor": 5
}
