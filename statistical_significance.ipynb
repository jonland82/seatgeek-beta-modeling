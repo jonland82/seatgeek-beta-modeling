{
 "cells": [
  {
   "cell_type": "markdown",
   "id": "75792738",
   "metadata": {},
   "source": [
    "#### Statistical Significance \n",
    "\n",
    "This code is used to calculate the statistical significance of the number of improved models under various experimental contexts."
   ]
  },
  {
   "cell_type": "code",
   "execution_count": 2,
   "id": "2f431e50",
   "metadata": {},
   "outputs": [
    {
     "name": "stdout",
     "output_type": "stream",
     "text": [
      "Effective sample size (N'): 7261\n",
      "Observed 'better' count: 4488\n",
      "Observed 'worse' count: 2773\n",
      "Mean (mu): 3630.5\n",
      "Std dev (sigma): 42.60575078554537\n",
      "Z-score: 20.114655514784403\n",
      "p-value: 0.0\n",
      "The p-value is effectively zero, confirming extremely strong statistical significance.\n",
      "The computed Z-score does not match the reported value closely. Check calculations.\n",
      "The computed p-value confirms the previously reported extremely small p-value.\n"
     ]
    }
   ],
   "source": [
    "import math\n",
    "from scipy.stats import norm\n",
    "\n",
    "# Given values from the figure and text\n",
    "total_pairs = 20000\n",
    "ties = 12739\n",
    "n_better = 4488\n",
    "n_worse = 2773\n",
    "\n",
    "# Check arithmetic consistency\n",
    "assert n_better + n_worse + ties == total_pairs, \"Sum of better, worse, and ties does not match total pairs.\"\n",
    "\n",
    "# Effective sample size (excluding ties)\n",
    "N_prime = n_better + n_worse\n",
    "\n",
    "# Under H0, p=0.5\n",
    "p = 0.5\n",
    "mu = N_prime * p\n",
    "sigma = math.sqrt(N_prime * p * (1 - p))\n",
    "\n",
    "# Apply continuity correction for one-sided test: P(X >= n_better)\n",
    "# Z = (n_better - 0.5 - mu) / sigma\n",
    "Z = (n_better - 0.5 - mu) / sigma\n",
    "\n",
    "# Compute p-value from Z-score for one-tailed test\n",
    "p_value = 1 - norm.cdf(Z)\n",
    "\n",
    "print(\"Effective sample size (N'):\", N_prime)\n",
    "print(\"Observed 'better' count:\", n_better)\n",
    "print(\"Observed 'worse' count:\", n_worse)\n",
    "print(\"Mean (mu):\", mu)\n",
    "print(\"Std dev (sigma):\", sigma)\n",
    "print(\"Z-score:\", Z)\n",
    "print(\"p-value:\", p_value)\n",
    "\n",
    "# Confirming if the results are statistically significant:\n",
    "# For a very large Z like we have, p-value should be extremely small.\n",
    "if p_value < 1e-100:\n",
    "    print(\"The p-value is effectively zero, confirming extremely strong statistical significance.\")\n",
    "else:\n",
    "    print(\"The p-value is not as small as expected. Check calculations.\")"
   ]
  },
  {
   "cell_type": "code",
   "execution_count": null,
   "id": "0d602d1c",
   "metadata": {},
   "outputs": [],
   "source": []
  }
 ],
 "metadata": {
  "kernelspec": {
   "display_name": "Python 3",
   "language": "python",
   "name": "python3"
  },
  "language_info": {
   "codemirror_mode": {
    "name": "ipython",
    "version": 3
   },
   "file_extension": ".py",
   "mimetype": "text/x-python",
   "name": "python",
   "nbconvert_exporter": "python",
   "pygments_lexer": "ipython3",
   "version": "3.7.4"
  }
 },
 "nbformat": 4,
 "nbformat_minor": 5
}
